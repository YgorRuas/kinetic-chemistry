{
 "cells": [
  {
   "cell_type": "code",
   "execution_count": 1,
   "id": "eeae12b4-d515-4624-bfdd-3424b4fb8697",
   "metadata": {},
   "outputs": [
    {
     "name": "stdout",
     "output_type": "stream",
     "text": [
      "Requirement already satisfied: pygame in c:\\venv\\ilumpy\\lib\\site-packages (2.5.0)Note: you may need to restart the kernel to use updated packages.\n",
      "\n"
     ]
    },
    {
     "name": "stderr",
     "output_type": "stream",
     "text": [
      "WARNING: You are using pip version 21.2.4; however, version 23.2.1 is available.\n",
      "You should consider upgrading via the 'c:\\venv\\ilumpy\\Scripts\\python.exe -m pip install --upgrade pip' command.\n"
     ]
    }
   ],
   "source": [
    "pip install pygame"
   ]
  },
  {
   "cell_type": "code",
   "execution_count": 1,
   "id": "fdb4d656-34fe-45ec-b938-5442b4c7b974",
   "metadata": {},
   "outputs": [
    {
     "name": "stdout",
     "output_type": "stream",
     "text": [
      "pygame 2.5.0 (SDL 2.28.0, Python 3.9.0)\n",
      "Hello from the pygame community. https://www.pygame.org/contribute.html\n"
     ]
    },
    {
     "data": {
      "image/png": "[encoded data removed]",
      "text/plain": [
       "<Figure size 432x288 with 1 Axes>"
      ]
     },
     "metadata": {
      "needs_background": "light"
     },
     "output_type": "display_data"
    },
    {
     "data": {
      "image/png": "[encoded data removed]",
      "text/plain": [
       "<Figure size 432x288 with 1 Axes>"
      ]
     },
     "metadata": {
      "needs_background": "light"
     },
     "output_type": "display_data"
    }
   ],
   "source": [
    "import pygame\n",
    "import random\n",
    "import math\n",
    "import matplotlib.pyplot as plt\n",
    "from matplotlib.backends.backend_agg import FigureCanvasAgg as FigureCanvas\n",
    "\n",
    "pygame.init()\n",
    "\n",
    "WIDTH, SIMULATION_WIDTH, HEIGHT = 1280, 650, 650\n",
    "screen = pygame.display.set_mode((WIDTH, HEIGHT))\n",
    "pygame.display.set_caption(\"Pong with Random Positions and Momentum Conservation\")\n",
    "\n",
    "clock = pygame.time.Clock()\n",
    "FPS = 80\n",
    "\n",
    "BLACK = (0, 0, 0)\n",
    "WHITE = (255, 255, 255)\n",
    "YELLOW = (255, 255, 0)\n",
    "\n",
    "k = 1.38e-23\n",
    "speed_scale_factor = 1 - (1/FPS)\n",
    "\n",
    "class Ball:\n",
    "    def __init__(self, posx, posy, diameter, speed, color, weight, temperature):\n",
    "        self.posx = posx\n",
    "        self.posy = posy\n",
    "        self.diameter = diameter\n",
    "        self.radius = diameter / 2\n",
    "        self.color = color\n",
    "        self.temperature = temperature\n",
    "        self.weight = weight\n",
    "        self.speed = speed\n",
    "        self.xVel = self.speed * random.choice([-1, 1])\n",
    "        self.yVel = self.speed * random.choice([-1, 1])\n",
    "\n",
    "    def update_speed(self, speed_scale_factor):\n",
    "        if self.temperature > 0:\n",
    "            self.speed = math.sqrt(3 * k * self.temperature / self.weight) * speed_scale_factor\n",
    "        else:\n",
    "            self.speed = 0\n",
    "\n",
    "        self.posx += self.xVel\n",
    "        self.posy += self.yVel\n",
    "\n",
    "    def update(self):\n",
    "        self.check_wall_collision()\n",
    "        self.update_speed(speed_scale_factor)\n",
    "\n",
    "    def get_velocity(self):\n",
    "        return math.sqrt(self.xVel**2 + self.yVel**2)\n",
    "\n",
    "    def check_wall_collision(self):\n",
    "        if self.posy <= self.radius or self.posy >= HEIGHT - self.radius:\n",
    "            self.yVel *= -1\n",
    "            self.posy = max(self.radius, min(HEIGHT - self.radius, self.posy))\n",
    "        if self.posx <= self.radius or self.posx >= SIMULATION_WIDTH - self.radius:\n",
    "            self.xVel *= -1\n",
    "            self.posx = max(self.radius, min(SIMULATION_WIDTH - self.radius, self.posx))\n",
    "\n",
    "    def check_collision(self, other_ball):\n",
    "        dx = other_ball.posx - self.posx\n",
    "        dy = other_ball.posy - self.posy\n",
    "        distance = math.sqrt(dx**2 + dy**2)\n",
    "\n",
    "        if distance <= self.radius + other_ball.radius:\n",
    "            if distance == 0:\n",
    "                pass\n",
    "            else:\n",
    "                overlap = (self.radius + other_ball.radius) - distance\n",
    "                dx /= distance\n",
    "                dy /= distance\n",
    "\n",
    "                self.posx -= overlap * dx * 0.5\n",
    "                self.posy -= overlap * dy * 0.5\n",
    "                other_ball.posx += overlap * dx * 0.5\n",
    "                other_ball.posy += overlap * dy * 0.5\n",
    "\n",
    "            total_weight = self.weight + other_ball.weight\n",
    "\n",
    "            self_momentum = self.weight * math.sqrt(self.xVel**2 + self.yVel**2)\n",
    "            other_momentum = other_ball.weight * math.sqrt(other_ball.xVel**2 + other_ball.yVel**2)\n",
    "\n",
    "            self_speed = self_momentum / self.weight\n",
    "            other_speed = other_momentum / other_ball.weight\n",
    "\n",
    "            self_angle = math.atan2(self.yVel, self.xVel)\n",
    "            other_angle = math.atan2(other_ball.yVel, other_ball.xVel)\n",
    "\n",
    "            self_new_xvel = self_speed * math.cos(self_angle)\n",
    "            self_new_yvel = self_speed * math.sin(self_angle)\n",
    "            other_new_xvel = other_speed * math.cos(other_angle)\n",
    "            other_new_yvel = other_speed * math.sin(other_angle)\n",
    "\n",
    "            self.xVel = (self_new_xvel * (self.weight - other_ball.weight) + 2 * other_ball.weight * other_new_xvel) / total_weight\n",
    "            self.yVel = (self_new_yvel * (self.weight - other_ball.weight) + 2 * other_ball.weight * other_new_yvel) / total_weight\n",
    "            other_ball.xVel = (other_new_xvel * (other_ball.weight - self.weight) + 2 * self.weight * self_new_xvel) / total_weight\n",
    "            other_ball.yVel = (other_new_yvel * (other_ball.weight - self.weight) + 2 * self.weight * self_new_yvel) / total_weight\n",
    "\n",
    "    def display(self):\n",
    "        pygame.draw.circle(screen, self.color, (int(self.posx), int(self.posy)), self.radius)\n",
    "\n",
    "    def getRect(self):\n",
    "        return pygame.Rect(self.posx - self.radius, self.posy - self.radius, self.diameter, self.diameter)\n",
    "\n",
    "def plot_velocity_distribution(balls, color, title):\n",
    "    velocities = [ball.get_velocity() for ball in balls]\n",
    "    plt.figure(figsize=(6, 4))\n",
    "    plt.hist(velocities, bins=20, color=(0,0,0), alpha=0.7)\n",
    "    plt.title(title)\n",
    "    plt.xlabel('Velocidade')\n",
    "    plt.ylabel('Frequência')\n",
    "    plt.grid(True)\n",
    "    canvas = FigureCanvas(plt.gcf())\n",
    "    canvas.draw()\n",
    "    renderer = canvas.get_renderer()\n",
    "    raw_data = renderer.tostring_rgb()\n",
    "    size = canvas.get_width_height()\n",
    "    return pygame.image.fromstring(raw_data, size, \"RGB\")\n",
    "\n",
    "def main(num_balls_white, num_balls_yellow, weight_white, weight_yellow, diameter_white, diameter_yellow, temperature):\n",
    "    running = True\n",
    "    balls = [Ball(random.randint(0 + diameter_white, SIMULATION_WIDTH - diameter_white), random.randint(0 + diameter_white, HEIGHT - diameter_white), diameter_white, speed_white, WHITE, weight_white, temperature) for _ in range(num_balls_white)]\n",
    "    yellow_balls = [Ball(random.randint(0 + diameter_yellow, SIMULATION_WIDTH - diameter_yellow), random.randint(0 + diameter_yellow, HEIGHT - diameter_yellow), diameter_yellow, speed_yellow, YELLOW, weight_yellow, temperature) for _ in range(num_balls_yellow)]\n",
    "\n",
    "    graph_update_counter = 0\n",
    "    white_graph = plot_velocity_distribution(balls, WHITE, \"White Ball Velocity Distribution\")\n",
    "    yellow_graph = plot_velocity_distribution(yellow_balls, YELLOW, \"Yellow Ball Velocity Distribution\")\n",
    "\n",
    "    while running:\n",
    "        screen.fill(BLACK)\n",
    "\n",
    "        for event in pygame.event.get():\n",
    "            if event.type == pygame.QUIT:\n",
    "                running = False\n",
    "\n",
    "        all_balls = balls + yellow_balls\n",
    "\n",
    "        for i in range(len(all_balls)):\n",
    "            for j in range(i + 1, len(all_balls)):\n",
    "                all_balls[i].check_collision(all_balls[j])\n",
    "\n",
    "        for ball in all_balls:\n",
    "            ball.update()\n",
    "            ball.display()\n",
    "\n",
    "        if graph_update_counter >= 10*FPS:\n",
    "            graph_update_counter = 0\n",
    "            white_graph = plot_velocity_distribution(balls, WHITE, \"White Ball Velocity Distribution\")\n",
    "            yellow_graph = plot_velocity_distribution(yellow_balls, YELLOW, \"Yellow Ball Velocity Distribution\")\n",
    "\n",
    "        screen.blit(white_graph, (750, 50))\n",
    "        screen.blit(yellow_graph, (750, (HEIGHT // \n",
    "\n",
    "2)+50))\n",
    "\n",
    "        pygame.display.update()\n",
    "        clock.tick(FPS)\n",
    "        graph_update_counter += 1\n",
    "\n",
    "    pygame.quit()\n",
    "\n",
    "if __name__ == \"__main__\":\n",
    "    num_balls_white = 100\n",
    "    num_balls_yellow = 70\n",
    "    weight_white = 30\n",
    "    weight_yellow = 1.5\n",
    "    diameter_white = 22\n",
    "    diameter_yellow = 10\n",
    "    temperature = 8000\n",
    "    speed_white = (math.sqrt(3 * k * temperature / weight_white)) * 100000000000\n",
    "    speed_yellow = math.sqrt(3 * k * temperature / weight_yellow) * 100000000000\n",
    "\n",
    "    main(num_balls_white, num_balls_yellow, weight_white, weight_yellow, diameter_white, diameter_yellow, temperature)"
   ]
  },
  {
   "cell_type": "code",
   "execution_count": null,
   "id": "4360efd8-f9c1-4c87-a3af-a705fc716210",
   "metadata": {},
   "outputs": [],
   "source": []
  }
 ],
 "metadata": {
  "kernelspec": {
   "display_name": "ilumpy",
   "language": "python",
   "name": "ilumpy"
  },
  "language_info": {
   "codemirror_mode": {
    "name": "ipython",
    "version": 3
   },
   "file_extension": ".py",
   "mimetype": "text/x-python",
   "name": "python",
   "nbconvert_exporter": "python",
   "pygments_lexer": "ipython3",
   "version": "3.9.0"
  }
 },
 "nbformat": 4,
 "nbformat_minor": 5
}
